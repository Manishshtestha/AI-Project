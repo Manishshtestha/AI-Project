{
 "cells": [
  {
   "cell_type": "markdown",
   "metadata": {},
   "source": [
    "# Project Name: DataMelt"
   ]
  },
  {
   "cell_type": "code",
   "execution_count": 1,
   "metadata": {},
   "outputs": [],
   "source": [
    "import pandas as pd"
   ]
  },
  {
   "cell_type": "code",
   "execution_count": 2,
   "metadata": {},
   "outputs": [
    {
     "name": "stdout",
     "output_type": "stream",
     "text": [
      "Origianl DataFrame (Wide Format):\n",
      "   Product  Q1 Sales  Q2 Sales  Q3 Sales  Q4 Sales\n",
      "0       A       150       250       170       160\n",
      "1       B       200       100       230       180\n",
      "2       C       250       250       350       300\n",
      "Melted DataFrame (Long Format):\n",
      "    Product  Quarters  Sales\n",
      "0        A  Q1 Sales    150\n",
      "1        B  Q1 Sales    200\n",
      "2        C  Q1 Sales    250\n",
      "3        A  Q2 Sales    250\n",
      "4        B  Q2 Sales    100\n",
      "5        C  Q2 Sales    250\n",
      "6        A  Q3 Sales    170\n",
      "7        B  Q3 Sales    230\n",
      "8        C  Q3 Sales    350\n",
      "9        A  Q4 Sales    160\n",
      "10       B  Q4 Sales    180\n",
      "11       C  Q4 Sales    300\n"
     ]
    }
   ],
   "source": [
    "data = pd.DataFrame({\n",
    "    'Product':['A','B','C'],\n",
    "    'Q1 Sales':[150,200,250],\n",
    "    'Q2 Sales':[250,100,250],\n",
    "    'Q3 Sales':[170,230,350],\n",
    "    'Q4 Sales':[160,180,300],\n",
    "})\n",
    "print(\"Origianl DataFrame (Wide Format):\\n\",data)\n",
    "\n",
    "melted_data = data.melt(\n",
    "    id_vars='Product',\n",
    "    value_vars = ['Q1 Sales','Q2 Sales','Q3 Sales','Q4 Sales'],\n",
    "    var_name= 'Quarters',\n",
    "    value_name='Sales'\n",
    ")\n",
    "\n",
    "print(\"Melted DataFrame (Long Format):\\n\",melted_data)"
   ]
  },
  {
   "cell_type": "code",
   "execution_count": null,
   "metadata": {},
   "outputs": [],
   "source": []
  }
 ],
 "metadata": {
  "kernelspec": {
   "display_name": "Python 3",
   "language": "python",
   "name": "python3"
  },
  "language_info": {
   "codemirror_mode": {
    "name": "ipython",
    "version": 3
   },
   "file_extension": ".py",
   "mimetype": "text/x-python",
   "name": "python",
   "nbconvert_exporter": "python",
   "pygments_lexer": "ipython3",
   "version": "3.12.8"
  }
 },
 "nbformat": 4,
 "nbformat_minor": 2
}
